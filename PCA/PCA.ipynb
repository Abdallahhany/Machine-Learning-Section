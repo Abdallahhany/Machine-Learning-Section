{
 "cells": [
  {
   "cell_type": "code",
   "execution_count": 1,
   "id": "836ebbaf",
   "metadata": {
    "pycharm": {
     "name": "#%%\n"
    }
   },
   "outputs": [
    {
     "name": "stdout",
     "output_type": "stream",
     "text": [
      "[0.22342624 0.15536212 0.1256732  0.12159419 0.10995552 0.09027313\n",
      " 0.08407327 0.06922255 0.00470242 0.00452233 0.00363136 0.00199705]\n"
     ]
    },
    {
     "data": {
      "image/png": "[encoded data removed]",
      "text/plain": [
       "<Figure size 432x288 with 1 Axes>"
      ]
     },
     "metadata": {
      "needs_background": "light"
     },
     "output_type": "display_data"
    }
   ],
   "source": [
    "import pandas as pd\n",
    "import numpy as np\n",
    "from sklearn.decomposition import PCA\n",
    "import matplotlib.pyplot as plt\n",
    "\n",
    "df = pd.read_csv('../Datasets/company_bankruptcy_prediction.csv')  #dataframe\n",
    "\n",
    "# df.head()\n",
    "\n",
    "X = df.drop('Bankrupt?', axis=1)\n",
    "y = df['Bankrupt?']\n",
    "\n",
    "pca = PCA(n_components=12)\n",
    "principalComponents = pca.fit_transform(X)\n",
    "principalDf = pd.DataFrame(data=principalComponents\n",
    "                           , columns=['A', 'B', 'C', 'D', 'E','F','G','H','I','J','K','L'])\n",
    "finalDf = pd.concat([principalDf, y], axis=1)\n",
    "\n",
    "finalDf.to_csv(\"../Datasets/PCA_Result/pcadata_company_bankruptcy_prediction.csv\", index=False, header=True)\n",
    "exvar = pca.explained_variance_ratio_\n",
    "cexvarsum = np.cumsum(exvar)\n",
    "print(exvar)\n",
    "plt.bar(range(0, len(exvar)), exvar, label='Individual explained variance')\n",
    "plt.step(range(0, len(cexvarsum)), cexvarsum, label='Cumulative explained variance')\n",
    "plt.ylabel('Explained variance ratio')\n",
    "plt.xlabel('Principal component index')\n",
    "plt.legend(loc='lower right')\n",
    "\n",
    "plt.show()\n",
    "\n"
   ]
  },
  {
   "cell_type": "code",
   "execution_count": 2,
   "id": "937202ef",
   "metadata": {
    "pycharm": {
     "name": "#%%\n"
    }
   },
   "outputs": [
    {
     "name": "stdout",
     "output_type": "stream",
     "text": [
      "[[116  47]\n",
      " [ 91  92]]\n",
      "accuracy  0.6011560693641619\n",
      "precision  0.6618705035971223\n",
      "recall   0.5027322404371585\n",
      "f1-measure   0.5714285714285714\n"
     ]
    }
   ],
   "source": [
    "data = pd.read_csv('../Datasets/diabetics.csv')\n",
    "X = data.drop('outcome', axis=1)\n",
    "y = data['outcome']\n",
    "from sklearn.model_selection import train_test_split\n",
    "\n",
    "x_train, x_test, y_train, y_test = train_test_split(X, y, test_size=0.3)\n",
    "\n",
    "from sklearn.ensemble import RandomForestClassifier\n",
    "\n",
    "rf = RandomForestClassifier(n_estimators=10)\n",
    "rf.fit(x_train, y_train)\n",
    "\n",
    "#prediction \n",
    "predictions = rf.predict(x_test)\n",
    "\n",
    "#compare prediction with y_test\n",
    "#confusion matrix\n",
    "from sklearn.metrics import confusion_matrix\n",
    "\n",
    "matrix = confusion_matrix(y_test, predictions)\n",
    "print(matrix)\n",
    "\n",
    "#               PREDICTED\n",
    "#         tn.                  fp\n",
    "#ACTUAL        \n",
    "#         fn                   tp\n",
    "\n",
    "#accuracy score\n",
    "from sklearn.metrics import accuracy_score\n",
    "\n",
    "acc = accuracy_score(y_test, predictions)\n",
    "print(\"accuracy \", acc)\n",
    "\n",
    "#precision\n",
    "from sklearn.metrics import precision_score\n",
    "\n",
    "pre = precision_score(y_test, predictions)\n",
    "print(\"precision \", pre)\n",
    "\n",
    "#recall \n",
    "from sklearn.metrics import recall_score\n",
    "\n",
    "rec = recall_score(y_test, predictions)\n",
    "print(\"recall  \", rec)\n",
    "\n",
    "#f1-measure\n",
    "from sklearn.metrics import f1_score\n",
    "\n",
    "f1 = f1_score(y_test, predictions)\n",
    "print(\"f1-measure  \", f1)"
   ]
  },
  {
   "cell_type": "code",
   "execution_count": null,
   "id": "f8695df1",
   "metadata": {
    "pycharm": {
     "name": "#%%\n"
    }
   },
   "outputs": [],
   "source": []
  }
 ],
 "metadata": {
  "kernelspec": {
   "display_name": "Python 3 (ipykernel)",
   "language": "python",
   "name": "python3"
  },
  "language_info": {
   "codemirror_mode": {
    "name": "ipython",
    "version": 3
   },
   "file_extension": ".py",
   "mimetype": "text/x-python",
   "name": "python",
   "nbconvert_exporter": "python",
   "pygments_lexer": "ipython3",
   "version": "3.9.7"
  }
 },
 "nbformat": 4,
 "nbformat_minor": 5
}
