{
 "cells": [
  {
   "cell_type": "code",
   "execution_count": 1,
   "id": "c38cd3b8",
   "metadata": {
    "pycharm": {
     "name": "#%%\n"
    },
    "scrolled": true
   },
   "outputs": [],
   "source": [
    "import pandas as pd\n",
    "\n",
    "data = pd.read_csv('../Datasets/diabetics.csv')\n",
    "# print(data)"
   ]
  },
  {
   "cell_type": "code",
   "execution_count": 2,
   "id": "319a2935",
   "metadata": {
    "pycharm": {
     "name": "#%%\n"
    },
    "scrolled": true
   },
   "outputs": [],
   "source": [
    "x = data.drop('outcome', axis=1)\n",
    "y = data['outcome']\n",
    "# print(x)\n",
    "# print(y)"
   ]
  },
  {
   "cell_type": "code",
   "execution_count": 3,
   "id": "575b20ba",
   "metadata": {
    "pycharm": {
     "name": "#%%\n"
    }
   },
   "outputs": [
    {
     "name": "stdout",
     "output_type": "stream",
     "text": [
      "0.6290005646527386\n"
     ]
    }
   ],
   "source": [
    "# KFold cross validation\n",
    "from sklearn.model_selection import KFold\n",
    "\n",
    "k = 5\n",
    "kFold = KFold(n_splits=k, random_state=None, shuffle=False)\n",
    "accList = []\n",
    "for train_index, test_index in kFold.split(x):\n",
    "    #     print(train_index)\n",
    "    #     print(test_index)\n",
    "    x_train, x_test = x.iloc[train_index, :], x.iloc[test_index, :]\n",
    "    y_train, y_test = y[train_index], y[test_index]\n",
    "\n",
    "    from sklearn.ensemble import RandomForestClassifier\n",
    "\n",
    "    rf = RandomForestClassifier(n_estimators=k)\n",
    "    rf.fit(x_train, y_train)\n",
    "    predictions = rf.predict(x_test)\n",
    "\n",
    "    from sklearn.metrics import accuracy_score\n",
    "\n",
    "    acc = accuracy_score(y_test, predictions)\n",
    "    #     print(\"acc = \", acc)\n",
    "    accList.append(acc)\n",
    "# print(accList)\n",
    "\n",
    "\n",
    "acc = sum(accList) / k\n",
    "print(acc)"
   ]
  },
  {
   "cell_type": "code",
   "execution_count": 4,
   "id": "29e47310",
   "metadata": {
    "pycharm": {
     "name": "#%%\n"
    }
   },
   "outputs": [
    {
     "name": "stdout",
     "output_type": "stream",
     "text": [
      "precision_score =  0.6299212598425197\n"
     ]
    }
   ],
   "source": [
    "from sklearn.metrics import precision_score\n",
    "\n",
    "precision = precision_score(y_test, predictions)\n",
    "print(\"precision_score = \", precision)\n"
   ]
  },
  {
   "cell_type": "code",
   "execution_count": 5,
   "id": "557da737",
   "metadata": {
    "pycharm": {
     "name": "#%%\n"
    }
   },
   "outputs": [
    {
     "name": "stdout",
     "output_type": "stream",
     "text": [
      "recall =  0.6896551724137931\n"
     ]
    }
   ],
   "source": [
    "from sklearn.metrics import recall_score\n",
    "\n",
    "recall = recall_score(y_test, predictions)\n",
    "print(\"recall = \", recall)\n"
   ]
  },
  {
   "cell_type": "code",
   "execution_count": 6,
   "id": "34f4714d",
   "metadata": {
    "pycharm": {
     "name": "#%%\n"
    }
   },
   "outputs": [
    {
     "name": "stdout",
     "output_type": "stream",
     "text": [
      "f1 =  0.6584362139917697\n"
     ]
    }
   ],
   "source": [
    "from sklearn.metrics import f1_score\n",
    "\n",
    "f1 = f1_score(y_test, predictions)\n",
    "print(\"f1 = \", f1)"
   ]
  }
 ],
 "metadata": {
  "kernelspec": {
   "display_name": "Python 3 (ipykernel)",
   "language": "python",
   "name": "python3"
  },
  "language_info": {
   "codemirror_mode": {
    "name": "ipython",
    "version": 3
   },
   "file_extension": ".py",
   "mimetype": "text/x-python",
   "name": "python",
   "nbconvert_exporter": "python",
   "pygments_lexer": "ipython3",
   "version": "3.9.7"
  }
 },
 "nbformat": 4,
 "nbformat_minor": 5
}
